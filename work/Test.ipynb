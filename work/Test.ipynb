{
 "cells": [
  {
   "cell_type": "code",
   "execution_count": 1,
   "id": "f01ba87b-f73e-4caa-8838-aea7dd399766",
   "metadata": {},
   "outputs": [],
   "source": [
    "import redis"
   ]
  },
  {
   "cell_type": "code",
   "execution_count": 3,
   "id": "8b0b7de1-2e5c-4360-b5b3-201d3671d9e5",
   "metadata": {},
   "outputs": [
    {
     "name": "stdout",
     "output_type": "stream",
     "text": [
      "b'18.5'\n"
     ]
    }
   ],
   "source": [
    "r = redis.Redis(host='my_redis')\n",
    "r.set('temperature', 18.5)\n",
    "print(r.get('temperature'))"
   ]
  },
  {
   "cell_type": "code",
   "execution_count": null,
   "id": "c05c9ae5-c9b9-4dec-8c31-04bfbc245327",
   "metadata": {},
   "outputs": [],
   "source": []
  }
 ],
 "metadata": {
  "kernelspec": {
   "display_name": "Python 3 (ipykernel)",
   "language": "python",
   "name": "python3"
  },
  "language_info": {
   "codemirror_mode": {
    "name": "ipython",
    "version": 3
   },
   "file_extension": ".py",
   "mimetype": "text/x-python",
   "name": "python",
   "nbconvert_exporter": "python",
   "pygments_lexer": "ipython3",
   "version": "3.11.6"
  }
 },
 "nbformat": 4,
 "nbformat_minor": 5
}
